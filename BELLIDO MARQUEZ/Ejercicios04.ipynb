{
 "cells": [
  {
   "cell_type": "code",
   "execution_count": 1,
   "id": "56669b8f-eee2-4c7a-902b-ab2c07998b3c",
   "metadata": {},
   "outputs": [
    {
     "name": "stdout",
     "output_type": "stream",
     "text": [
      "0\n",
      "2\n",
      "4\n",
      "6\n",
      "8\n",
      "10\n"
     ]
    }
   ],
   "source": [
    "### Estructura iterativa for\n",
    "\n",
    "## hacer un programa mostrar por pantalla los numeros áres del 0 al 10:\n",
    "for num in range(0, 11, 2):\n",
    "    print(num)"
   ]
  },
  {
   "cell_type": "code",
   "execution_count": 4,
   "id": "f59cb159-2e2c-48c2-ac55-5f0394874ae6",
   "metadata": {},
   "outputs": [
    {
     "name": "stdin",
     "output_type": "stream",
     "text": [
      "De cuantos elementos crearemos la lista de nombres :  1\n",
      "Ingresar Nombre de la posicion 0 :  dc\n"
     ]
    },
    {
     "name": "stdout",
     "output_type": "stream",
     "text": [
      "\n",
      " la lista completa de Nombres es :\n",
      " ['dc']\n"
     ]
    }
   ],
   "source": [
    "## Hacer un programa que permita ingresar nombres a una lista, utilizando funciones:\n",
    "\n",
    "#Inicializamos la lista vacia\n",
    "nombres = []\n",
    "\n",
    "#funcion ingreso nombre\n",
    "def ingreso(l):\n",
    "    for i in range(0, l):\n",
    "        m = input(\"Ingresar Nombre de la posicion {0} : \".format(i))\n",
    "        nombres.append(m)\n",
    "\n",
    "#Preguntamos de cuantos elementos conforman la lista\n",
    "l = int(input(\"De cuantos elementos crearemos la lista de nombres : \"))\n",
    "\n",
    "ingreso(l)\n",
    "print(\"\\n la lista completa de Nombres es :\\n\",nombres)"
   ]
  },
  {
   "cell_type": "code",
   "execution_count": 5,
   "id": "8a4530e8-2dd4-4ea9-99ac-f7a5e7560ec0",
   "metadata": {},
   "outputs": [
    {
     "name": "stdout",
     "output_type": "stream",
     "text": [
      "No se encontro el numero 9\n"
     ]
    }
   ],
   "source": [
    "## Metodo2: Hacer un programa que de una lista de numeros imprima la posicion del numero 9, utilizando funcion 'enumerate'\n",
    "\n",
    "#lista de numeros\n",
    "lista = [2, 4, 5, 7, 8, 19, 3, 4]\n",
    "\n",
    "#utilizo la funcion 'enumerate' qe devuelve una tupla\n",
    "#tupla de 2 elementos de una lista (posicion, contenido)\n",
    "for i,m in enumerate(lista):\n",
    "    if m == 9:\n",
    "        break\n",
    "else:\n",
    "## Usamos 'for' conjuntamente con 'else'\n",
    "    #ponemos negativa la posicion\n",
    "    i = -1\n",
    "    print('No se encontro el numero 9')\n",
    "\n",
    "if i >=0:\n",
    "    print(i)"
   ]
  },
  {
   "cell_type": "code",
   "execution_count": 6,
   "id": "ef87ca32-4894-4931-98a3-d42db6934071",
   "metadata": {},
   "outputs": [
    {
     "name": "stdout",
     "output_type": "stream",
     "text": [
      "\n",
      "El primer libro de Mario Vargas Llosa es: La ciudad y los perros\n",
      "\n",
      "El segundo libro de Mario Vargas Llosa es: La casa verde\n",
      "\n",
      "El tercer libro de Mario Vargas Llosa es: Pantaleon y las visitadoras\n"
     ]
    }
   ],
   "source": [
    "## Hacer un programa que lea la lista de obras de Mario Vargas Llosa e indique el orden de los libros\n",
    "\n",
    "#Lista de Libros de Mario Vargas Llosa\n",
    "obras_mvll = [\"La ciudad y los perros\", \"La casa verde\", \"Pantaleon y las visitadoras\"]\n",
    "#Lista Orden de los libros\n",
    "orden = [\"primer\", \"segundo\", \"tercer\"]\n",
    "\n",
    "#Utilizamos enumerate\n",
    "for i, libro in enumerate(obras_mvll):\n",
    "    print(\"\\nEl \" + orden[i] + \" libro de Mario Vargas Llosa es: \" + libro)"
   ]
  },
  {
   "cell_type": "code",
   "execution_count": 7,
   "id": "94219e19-0858-408a-90bc-0e1e6aecb017",
   "metadata": {},
   "outputs": [
    {
     "name": "stdout",
     "output_type": "stream",
     "text": [
      "Hola Joel. ¡Por favor, ven a mi fiesta el sabado!\n",
      "Hola Naty. ¡Por favor, ven a mi fiesta el sabado!\n",
      "Hola Jehu. ¡Por favor, ven a mi fiesta el sabado!\n",
      "Hola Angeles. ¡Por favor, ven a mi fiesta el sabado!\n",
      "Hola Maryori. ¡Por favor, ven a mi fiesta el sabado!\n",
      "Hola Lucita. ¡Por favor, ven a mi fiesta el sabado!\n",
      "Hola Mirella. ¡Por favor, ven a mi fiesta el sabado!\n",
      "Hola Cesar. ¡Por favor, ven a mi fiesta el sabado!\n"
     ]
    }
   ],
   "source": [
    "## Hacer un programa que realice invitaciones de una lista de nombres\n",
    "\n",
    "for f in [\"Joel\", \"Naty\", \"Jehu\", \"Angeles\", \"Maryori\", \"Lucita\", \"Mirella\", \"Cesar\"]:\n",
    "    invitation = \"Hola \" + f + \". ¡Por favor, ven a mi fiesta el sabado!\"\n",
    "    print (invitation)"
   ]
  },
  {
   "cell_type": "code",
   "execution_count": 8,
   "id": "c79b964d-c247-4ea0-8bba-35452d2268e9",
   "metadata": {},
   "outputs": [
    {
     "name": "stdout",
     "output_type": "stream",
     "text": [
      "10\n",
      "5.5\n",
      "2\n",
      "10\n",
      "55\n",
      "0\n"
     ]
    }
   ],
   "source": [
    "## Hacer un programa que sume los elementos de una lista, utilizar funciones y for\n",
    "\n",
    "#solicita usar for y funciones, NO SE PUEDE USAR funcion 'sum'\n",
    "def mysum(xs):\n",
    "    \"\"\" Suma todos los numeros de la lista xs, y devuelve el total. \"\"\"\n",
    "    running_total = 0\n",
    "    for x in xs:\n",
    "        running_total = running_total + x\n",
    "    return running_total\n",
    "\n",
    "#add test like these to you test siute ...\n",
    "print(mysum([1, 2, 3, 4]))        # ==>> 10\n",
    "print(mysum([1.25, 2.5, 1.75]))     # ==>> 5.5\n",
    "print(mysum([1, -2, 3]))          # ==>> 2\n",
    "print(mysum([1, 2, 3, 4]))     # ==>> 10\n",
    "print(mysum(range(11)))       # ==>> 55\n",
    "print(mysum([]))               # ==>> 0"
   ]
  },
  {
   "cell_type": "code",
   "execution_count": 9,
   "id": "acb7be69-1d98-4e7d-8da3-9be6183ff0b1",
   "metadata": {},
   "outputs": [
    {
     "data": {
      "text/plain": [
       "10"
      ]
     },
     "execution_count": 9,
     "metadata": {},
     "output_type": "execute_result"
    }
   ],
   "source": [
    "## Hacer un programa que sume los elementos de una lista, usamos funcion sum\n",
    "\n",
    "m = [1, 2, 3, 4]\n",
    "sum(m)"
   ]
  },
  {
   "cell_type": "code",
   "execution_count": 10,
   "id": "3960df17-7b5e-4d30-8fec-85ff3b635320",
   "metadata": {},
   "outputs": [
    {
     "name": "stdin",
     "output_type": "stream",
     "text": [
      "Ingrese un numero:  4\n"
     ]
    },
    {
     "name": "stdout",
     "output_type": "stream",
     "text": [
      "\n",
      "Los multiplos de  4 son: \n",
      "4  8  12  16  20  24  28  32  36  40  \n"
     ]
    }
   ],
   "source": [
    "## Hacer un programa que imprima los multiplos hasta el numero 10 de cualquier numero\n",
    "\n",
    "#Creamos la funcion multiplos\n",
    "def multiplos(n):\n",
    "    for i in range(1, 11):\n",
    "        print(n * i, end=\"  \")\n",
    "    print()\n",
    "\n",
    "#Llamamos a la funcion con el numero de multiplo deseado\n",
    "m = int(input(\"Ingrese un numero: \"))\n",
    "print(\"\\nLos multiplos de \", m, \"son: \")\n",
    "multiplos(m)"
   ]
  },
  {
   "cell_type": "code",
   "execution_count": 11,
   "id": "bad6ad4b-c13d-420e-94b8-7d710bb520ce",
   "metadata": {},
   "outputs": [
    {
     "name": "stdout",
     "output_type": "stream",
     "text": [
      "0 0 0\n",
      "0 0 1\n",
      "0 1 0\n",
      "0 1 1\n",
      "0 2 0\n",
      "0 2 1\n",
      "0 3 0\n",
      "0 3 1\n",
      "1 0 0\n",
      "1 0 1\n",
      "1 1 0\n",
      "1 1 1\n",
      "1 2 0\n",
      "1 2 1\n",
      "1 3 0\n",
      "1 3 1\n",
      "2 0 0\n",
      "2 0 1\n",
      "2 1 0\n",
      "2 1 1\n",
      "2 2 0\n",
      "2 2 1\n",
      "2 3 0\n",
      "2 3 1\n",
      "3 0 0\n",
      "3 0 1\n",
      "3 1 0\n",
      "3 1 1\n",
      "3 2 0\n",
      "3 2 1\n",
      "3 3 0\n",
      "3 3 1\n"
     ]
    }
   ],
   "source": [
    "## Ejemplo de for anidado: Creacion de tablas\n",
    "\n",
    "for i in range(0, 4):\n",
    "    for j in range(0, 4):\n",
    "        for k in range(0, 2):\n",
    "            print(i, j, k)"
   ]
  },
  {
   "cell_type": "code",
   "execution_count": 12,
   "id": "dee344c2-1fb5-499e-92d0-84f13fd2bb65",
   "metadata": {},
   "outputs": [
    {
     "name": "stdin",
     "output_type": "stream",
     "text": [
      "Ingrese un numero:  4\n"
     ]
    },
    {
     "name": "stdout",
     "output_type": "stream",
     "text": [
      "la raiz 2-esima de 4.0 es 2.0\n",
      "la raiz 3-esima de 4.0 es 1.5874010519681994\n",
      "la raiz 4-esima de 4.0 es 1.4142135623730951\n",
      "la raiz 5-esima de 4.0 es 1.3195079107728942\n",
      "la raiz 6-esima de 4.0 es 1.2599210498948732\n",
      "la raiz 7-esima de 4.0 es 1.2190136542044754\n",
      "la raiz 8-esima de 4.0 es 1.189207115002721\n",
      "la raiz 9-esima de 4.0 es 1.1665290395761165\n",
      "la raiz 10-esima de 4.0 es 1.148698354997035\n",
      "la raiz 11-esima de 4.0 es 1.1343125221954626\n",
      "la raiz 12-esima de 4.0 es 1.122462048309373\n",
      "la raiz 13-esima de 4.0 es 1.1125314760964868\n",
      "la raiz 14-esima de 4.0 es 1.1040895136738123\n",
      "la raiz 15-esima de 4.0 es 1.096824979694626\n",
      "la raiz 16-esima de 4.0 es 1.0905077326652577\n",
      "la raiz 17-esima de 4.0 es 1.084963913643637\n",
      "la raiz 18-esima de 4.0 es 1.080059738892306\n",
      "la raiz 19-esima de 4.0 es 1.0756905862201824\n",
      "la raiz 20-esima de 4.0 es 1.0717734625362931\n",
      "la raiz 21-esima de 4.0 es 1.0682416908144021\n",
      "la raiz 22-esima de 4.0 es 1.0650410894399627\n",
      "la raiz 23-esima de 4.0 es 1.062127176862691\n",
      "la raiz 24-esima de 4.0 es 1.0594630943592953\n",
      "la raiz 25-esima de 4.0 es 1.0570180405613803\n",
      "la raiz 26-esima de 4.0 es 1.0547660764816467\n",
      "la raiz 27-esima de 4.0 es 1.0526852026389557\n",
      "la raiz 28-esima de 4.0 es 1.0507566386532194\n",
      "la raiz 29-esima de 4.0 es 1.0489642553230345\n",
      "la raiz 30-esima de 4.0 es 1.0472941228206267\n",
      "la raiz 31-esima de 4.0 es 1.0457341482224871\n",
      "la raiz 32-esima de 4.0 es 1.0442737824274138\n",
      "la raiz 33-esima de 4.0 es 1.0429037814463955\n",
      "la raiz 34-esima de 4.0 es 1.0416160106505838\n",
      "la raiz 35-esima de 4.0 es 1.0404032832218364\n",
      "la raiz 36-esima de 4.0 es 1.0392592260318434\n",
      "la raiz 37-esima de 4.0 es 1.038178167666789\n",
      "la raiz 38-esima de 4.0 es 1.0371550444461919\n",
      "la raiz 39-esima de 4.0 es 1.0361853211506709\n",
      "la raiz 40-esima de 4.0 es 1.0352649238413776\n",
      "la raiz 41-esima de 4.0 es 1.0343901826728465\n",
      "la raiz 42-esima de 4.0 es 1.0335577830070277\n",
      "la raiz 43-esima de 4.0 es 1.032764723456\n",
      "la raiz 44-esima de 4.0 es 1.0320082797342096\n",
      "la raiz 45-esima de 4.0 es 1.0312859734029953\n",
      "la raiz 46-esima de 4.0 es 1.0305955447520094\n",
      "la raiz 47-esima de 4.0 es 1.0299349291925564\n",
      "la raiz 48-esima de 4.0 es 1.029302236643492\n",
      "la raiz 49-esima de 4.0 es 1.0286957334762774\n",
      "la raiz 50-esima de 4.0 es 1.0281138266560665\n",
      "la raiz 51-esima de 4.0 es 1.0275550497734123\n",
      "la raiz 52-esima de 4.0 es 1.0270180507087725\n",
      "la raiz 53-esima de 4.0 es 1.0265015807114097\n",
      "la raiz 54-esima de 4.0 es 1.0260044847070386\n",
      "la raiz 55-esima de 4.0 es 1.0255256926759042\n",
      "la raiz 56-esima de 4.0 es 1.0250642119658746\n",
      "la raiz 57-esima de 4.0 es 1.024619120424347\n",
      "la raiz 58-esima de 4.0 es 1.0241895602489972\n",
      "la raiz 59-esima de 4.0 es 1.0237747324710977\n",
      "la raiz 60-esima de 4.0 es 1.023373891996775\n",
      "la raiz 61-esima de 4.0 es 1.0229863431414639\n",
      "la raiz 62-esima de 4.0 es 1.0226114356012683\n",
      "la raiz 63-esima de 4.0 es 1.0222485608121554\n",
      "la raiz 64-esima de 4.0 es 1.0218971486541166\n",
      "la raiz 65-esima de 4.0 es 1.0215566644627565\n",
      "la raiz 66-esima de 4.0 es 1.021226606315364\n",
      "la raiz 67-esima de 4.0 es 1.0209065025625026\n",
      "la raiz 68-esima de 4.0 es 1.0205959095795867\n",
      "la raiz 69-esima de 4.0 es 1.0202944097159121\n",
      "la raiz 70-esima de 4.0 es 1.020001609421199\n",
      "la raiz 71-esima de 4.0 es 1.01971713753198\n",
      "la raiz 72-esima de 4.0 es 1.0194406437021448\n",
      "la raiz 73-esima de 4.0 es 1.0191717969636915\n",
      "la raiz 74-esima de 4.0 es 1.0189102844052507\n",
      "la raiz 75-esima de 4.0 es 1.0186558099572924\n",
      "la raiz 76-esima de 4.0 es 1.018408093274102\n",
      "la raiz 77-esima de 4.0 es 1.0181668687036487\n",
      "la raiz 78-esima de 4.0 es 1.0179318843373906\n",
      "la raiz 79-esima de 4.0 es 1.0177029011328715\n",
      "la raiz 80-esima de 4.0 es 1.0174796921026863\n",
      "la raiz 81-esima de 4.0 es 1.017262041564032\n",
      "la raiz 82-esima de 4.0 es 1.0170497444436268\n",
      "la raiz 83-esima de 4.0 es 1.016842605633291\n",
      "la raiz 84-esima de 4.0 es 1.0166404393919355\n",
      "la raiz 85-esima de 4.0 es 1.0164430687900992\n",
      "la raiz 86-esima de 4.0 es 1.016250325193552\n",
      "la raiz 87-esima de 4.0 es 1.0160620477827906\n",
      "la raiz 88-esima de 4.0 es 1.0158780831055514\n",
      "la raiz 89-esima de 4.0 es 1.0156982846597225\n",
      "la raiz 90-esima de 4.0 es 1.015522512504275\n",
      "la raiz 91-esima de 4.0 es 1.0153506328960396\n",
      "la raiz 92-esima de 4.0 es 1.0151825179503484\n",
      "la raiz 93-esima de 4.0 es 1.0150180453237323\n",
      "la raiz 94-esima de 4.0 es 1.0148570979170202\n",
      "la raiz 95-esima de 4.0 es 1.0146995635973237\n",
      "la raiz 96-esima de 4.0 es 1.0145453349375237\n",
      "la raiz 97-esima de 4.0 es 1.014394308971984\n",
      "la raiz 98-esima de 4.0 es 1.0142463869673273\n",
      "la raiz 99-esima de 4.0 es 1.0141014742071979\n",
      "la raiz 100-esima de 4.0 es 1.013959479790029\n"
     ]
    }
   ],
   "source": [
    "## Hacer un programa que permita hallar la raiz enesima de un numero que se ingresara por el teclado\n",
    "\n",
    "numero = float(input(\"Ingrese un numero: \"))\n",
    "\n",
    "for n in range(2, 101):\n",
    "    print(\"la raiz {0}-esima de {1} es {2}\".format(n, numero, numero**(1/n)))"
   ]
  },
  {
   "cell_type": "code",
   "execution_count": 13,
   "id": "ac959d20-ee39-4b7f-b39b-b9d81c28a7c6",
   "metadata": {},
   "outputs": [
    {
     "name": "stdin",
     "output_type": "stream",
     "text": [
      "Ingrese su nombre:  u\n"
     ]
    },
    {
     "name": "stdout",
     "output_type": "stream",
     "text": [
      "Nombre Correcto\n"
     ]
    },
    {
     "name": "stdin",
     "output_type": "stream",
     "text": [
      "Ingrese su apellido:  o\n"
     ]
    },
    {
     "name": "stdout",
     "output_type": "stream",
     "text": [
      "Nombre Correcto\n"
     ]
    }
   ],
   "source": [
    "#creo la lista de validacion\n",
    "num = ['1', '2', '3', '4', '5', '6', '7', '8', '9', '0']\n",
    "sim = ['?', '!', '$', '%', '&', '/', '~','°']\n",
    "\n",
    "#funcion\n",
    "def validar(nomap):\n",
    "    for x in nomap:\n",
    "        if x in num:\n",
    "            print('Nombre no valido!!!')\n",
    "        elif x in sim:\n",
    "            print('Nombre no valido!!!')\n",
    "        else:\n",
    "            print('Nombre Correcto')\n",
    "\n",
    "#ingresar nombre\n",
    "nom = input('Ingrese su nombre: ')\n",
    "\n",
    "#Llamar a la funcion\n",
    "validar(nom)\n",
    "\n",
    "#ingresar nombre\n",
    "apell = input('Ingrese su apellido: ')\n",
    "\n",
    "#llamar a la funcion\n",
    "validar(apell)"
   ]
  },
  {
   "cell_type": "code",
   "execution_count": null,
   "id": "5d9e131d-816b-46c6-9529-304db2eaca95",
   "metadata": {},
   "outputs": [],
   "source": []
  }
 ],
 "metadata": {
  "kernelspec": {
   "display_name": "Python 3 (ipykernel)",
   "language": "python",
   "name": "python3"
  },
  "language_info": {
   "codemirror_mode": {
    "name": "ipython",
    "version": 3
   },
   "file_extension": ".py",
   "mimetype": "text/x-python",
   "name": "python",
   "nbconvert_exporter": "python",
   "pygments_lexer": "ipython3",
   "version": "3.12.7"
  }
 },
 "nbformat": 4,
 "nbformat_minor": 5
}
