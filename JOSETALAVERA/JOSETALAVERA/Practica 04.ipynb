{
 "cells": [
  {
   "cell_type": "code",
   "execution_count": 1,
   "id": "ec031bc8-874f-4923-99b8-97eabb5c91e8",
   "metadata": {},
   "outputs": [
    {
     "name": "stdout",
     "output_type": "stream",
     "text": [
      "6\n",
      "23\n",
      "89\n",
      "120\n"
     ]
    }
   ],
   "source": [
    "num=[6, 23, 89, 120]\n",
    "for n in num:\n",
    "    print(n)"
   ]
  },
  {
   "cell_type": "code",
   "execution_count": 2,
   "id": "f7c523f0-f007-49d4-8c39-e48bc84f5121",
   "metadata": {},
   "outputs": [
    {
     "name": "stdout",
     "output_type": "stream",
     "text": [
      "M\n",
      "a\n",
      "x\n",
      "i\n",
      "m\n",
      "i\n",
      "l\n",
      "i\n",
      "a\n",
      "n\n",
      "o\n"
     ]
    }
   ],
   "source": [
    "nom= \"Maximiliano\"\n",
    "for letra in nom:\n",
    "    print(letra)"
   ]
  },
  {
   "cell_type": "code",
   "execution_count": 4,
   "id": "d395e4d3-36cd-4bbe-a3a4-20a0adf8d25b",
   "metadata": {},
   "outputs": [
    {
     "name": "stdout",
     "output_type": "stream",
     "text": [
      "Holamilita, la longitud de tu nombre es de: 6 caracteres. \n",
      "HolaLuisito, la longitud de tu nombre es de: 7 caracteres. \n",
      "HolaPablito, la longitud de tu nombre es de: 7 caracteres. \n",
      "HolaAlexandito, la longitud de tu nombre es de: 10 caracteres. \n"
     ]
    }
   ],
   "source": [
    "for nombre in ['milita' , 'Luisito' , 'Pablito' , 'Alexandito']:\n",
    "    print('Hola{0}, la longitud de tu nombre es de: {1} caracteres. '.format(nombre,len(nombre)))"
   ]
  },
  {
   "cell_type": "code",
   "execution_count": 5,
   "id": "7272685f-1707-49fc-906a-8402ea15c676",
   "metadata": {},
   "outputs": [
    {
     "name": "stdout",
     "output_type": "stream",
     "text": [
      "['amarillo', 'rojo', 'verde', 'purpura', 'negro']\n"
     ]
    }
   ],
   "source": [
    "colo =[\"amarillo\" ,\"rojo\" , \"verde\" ,\"azul\" , \"purpura\",\"blanco\",\"negro\",\"limon\"]\n",
    "colo_con_r=[]\n",
    "\n",
    "for m in colo:\n",
    "    if 'r'in m:\n",
    "        colo_con_r.append(m)\n",
    "print(colo_con_r)\n"
   ]
  },
  {
   "cell_type": "code",
   "execution_count": 6,
   "id": "fc36b5ff-f356-4be1-a919-0a63295afc9d",
   "metadata": {},
   "outputs": [
    {
     "name": "stdout",
     "output_type": "stream",
     "text": [
      "0\n",
      "1\n",
      "2\n",
      "3\n",
      "4\n",
      "5\n",
      "6\n",
      "7\n",
      "8\n",
      "9\n",
      "10\n",
      "11\n"
     ]
    }
   ],
   "source": [
    "for i in range(12):\n",
    "    print(i)"
   ]
  },
  {
   "cell_type": "code",
   "execution_count": 7,
   "id": "0c853dcc-8086-4d5e-b998-adf6ec5229ac",
   "metadata": {},
   "outputs": [
    {
     "name": "stdout",
     "output_type": "stream",
     "text": [
      "1 2 3 4 5 6 7 8 9 10 "
     ]
    }
   ],
   "source": [
    "for i in range(10):\n",
    "    print(i+1, \"\",end=\"\")"
   ]
  },
  {
   "cell_type": "code",
   "execution_count": 8,
   "id": "49bfdcdc-9a77-4c97-9e4e-6c0cf0f3f474",
   "metadata": {},
   "outputs": [
    {
     "name": "stdout",
     "output_type": "stream",
     "text": [
      "1 2 3 4 5 6 7 8 9 10 "
     ]
    }
   ],
   "source": [
    "for i in range(1,11):\n",
    "    print(i, \"\",end=\"\")"
   ]
  },
  {
   "cell_type": "code",
   "execution_count": 9,
   "id": "b4c3cfe0-e512-468f-8123-fc2e3bf86168",
   "metadata": {},
   "outputs": [
    {
     "name": "stdout",
     "output_type": "stream",
     "text": [
      "2 4 6 8 10 "
     ]
    }
   ],
   "source": [
    "for i in range(2,12,2):\n",
    "    print(i, \"\",end=\"\")"
   ]
  },
  {
   "cell_type": "code",
   "execution_count": 10,
   "id": "2f7a0123-ac5d-40ab-bb43-c18aeba2c9e7",
   "metadata": {},
   "outputs": [
    {
     "name": "stdout",
     "output_type": "stream",
     "text": [
      "20 18 16 14 12 10 8 6 4 2 "
     ]
    }
   ],
   "source": [
    "for i in range(20,0,-2):\n",
    "    print(i, \"\",end=\"\")"
   ]
  },
  {
   "cell_type": "code",
   "execution_count": 11,
   "id": "63105630-a812-45db-9498-38c6904b37d9",
   "metadata": {},
   "outputs": [
    {
     "name": "stdout",
     "output_type": "stream",
     "text": [
      "40 35 30 25 20 15 10 5 0 "
     ]
    }
   ],
   "source": [
    "for i in range(40,-5,-5):\n",
    "    print(i, \"\",end=\"\")"
   ]
  },
  {
   "cell_type": "code",
   "execution_count": 12,
   "id": "53415208-bef0-4438-9572-46a28cc5077c",
   "metadata": {},
   "outputs": [
    {
     "name": "stdout",
     "output_type": "stream",
     "text": [
      "50 45 40 35 30 25 20 15 10 5 0 "
     ]
    }
   ],
   "source": [
    "for i in range(50,-1,-5):\n",
    "    print(i, \"\",end=\"\")"
   ]
  },
  {
   "cell_type": "code",
   "execution_count": 13,
   "id": "9b4275e5-b95d-48f8-929e-b59d7ef7f144",
   "metadata": {},
   "outputs": [
    {
     "name": "stdout",
     "output_type": "stream",
     "text": [
      "5\n"
     ]
    }
   ],
   "source": [
    "lista=[2,4,5,7,8,9,3,4]\n",
    "cont=-1\n",
    "\n",
    "for m in lista:\n",
    "    cont += 1\n",
    "    if m == 9:\n",
    "        break\n",
    "print(cont)"
   ]
  },
  {
   "cell_type": "code",
   "execution_count": 14,
   "id": "5cbec735-34be-4045-ac2f-a96009b00512",
   "metadata": {},
   "outputs": [
    {
     "name": "stdout",
     "output_type": "stream",
     "text": [
      "0.2\n"
     ]
    }
   ],
   "source": [
    "contador = 1\n",
    "contador /= 5\n",
    "print(contador)"
   ]
  },
  {
   "cell_type": "code",
   "execution_count": 15,
   "id": "2fb2ecde-2ee5-4181-8105-e2dbbd71ae78",
   "metadata": {},
   "outputs": [
    {
     "name": "stdout",
     "output_type": "stream",
     "text": [
      "No se encontro el numero 9\n"
     ]
    }
   ],
   "source": [
    "lista=[2,4,5,7,8,19,3,4]\n",
    "cont=-1\n",
    "\n",
    "for m in lista:\n",
    "    cont= cont + 1\n",
    "    if m == 9:\n",
    "        break\n",
    "else:\n",
    "    cont= -1\n",
    "    print(\"No se encontro el numero 9\")\n",
    "if cont >= 0:\n",
    "    print(cont)"
   ]
  },
  {
   "cell_type": "code",
   "execution_count": 16,
   "id": "5004f921-ddc9-4191-9a05-db014acaf831",
   "metadata": {},
   "outputs": [
    {
     "name": "stdout",
     "output_type": "stream",
     "text": [
      "12\n",
      "14\n",
      "108\n",
      "90\n",
      "200\n"
     ]
    }
   ],
   "source": [
    "num=[12,14,15,27,108,90,33,49,200]\n",
    "\n",
    "for p in num:\n",
    "    if p % 2 !=0:\n",
    "        continue\n",
    "    print(p)\n"
   ]
  },
  {
   "cell_type": "code",
   "execution_count": 17,
   "id": "3638e09a-acca-4e17-893e-2099e457120f",
   "metadata": {},
   "outputs": [
    {
     "name": "stdout",
     "output_type": "stream",
     "text": [
      "0\n",
      "2\n",
      "4\n",
      "6\n",
      "8\n",
      "10\n"
     ]
    }
   ],
   "source": [
    "for num in range (0,11,2):\n",
    "    print(num)"
   ]
  },
  {
   "cell_type": "code",
   "execution_count": 18,
   "id": "5fced48c-d438-41a6-a4f6-a80068f04c2f",
   "metadata": {},
   "outputs": [
    {
     "name": "stdin",
     "output_type": "stream",
     "text": [
      "De cuantos elementos crearemos la lista de nombres :  3\n",
      "Ingresar Nombre de la posicion 0 : Juancito\n",
      "Ingresar Nombre de la posicion 1 : Luisito\n",
      "Ingresar Nombre de la posicion 2 : Marianita\n"
     ]
    },
    {
     "name": "stdout",
     "output_type": "stream",
     "text": [
      "\n",
      " la lista completa de nombres es :\n",
      " ['Juancito', 'Luisito', 'Marianita']\n"
     ]
    }
   ],
   "source": [
    "nombres =[]\n",
    "def ingreso (ele):\n",
    "    for i in range (0,ele):\n",
    "        m=input(\"Ingresar Nombre de la posicion {0} :\".format(i))\n",
    "        nombres.append(m)\n",
    "l=int(input(\"De cuantos elementos crearemos la lista de nombres : \"))\n",
    "\n",
    "ingreso(l)\n",
    "print(\"\\n la lista completa de nombres es :\\n\",nombres)"
   ]
  },
  {
   "cell_type": "code",
   "execution_count": 19,
   "id": "430b982f-884c-47be-92fe-85a1cbffc9e7",
   "metadata": {},
   "outputs": [
    {
     "name": "stdout",
     "output_type": "stream",
     "text": [
      "No se encontro el numero 9\n"
     ]
    }
   ],
   "source": [
    "lista = [2,4,5,7,8,19,3,4]\n",
    "for i,m in enumerate(lista):\n",
    "    if m==9:\n",
    "        break\n",
    "else:\n",
    "    i = -1\n",
    "    print('No se encontro el numero 9')\n",
    "if i >=0:\n",
    "    print (i)"
   ]
  },
  {
   "cell_type": "code",
   "execution_count": 21,
   "id": "d45cf61f-f914-4a1e-ad48-6d40b1cfa197",
   "metadata": {},
   "outputs": [
    {
     "name": "stdout",
     "output_type": "stream",
     "text": [
      "\n",
      "El primer libro de mario Vargas Llosa es :La ciudad y los perros\n",
      "\n",
      "El segundo libro de mario Vargas Llosa es :La casa verde\n",
      "\n",
      "El tercer libro de mario Vargas Llosa es :Pantaleon y las visitadoras\n"
     ]
    }
   ],
   "source": [
    "obras_mv11=[\"La ciudad y los perros\",\"La casa verde\",\"Pantaleon y las visitadoras\"]\n",
    "orden=[\"primer\",\"segundo\",\"tercer\"]\n",
    "for i, libro in enumerate (obras_mv11):\n",
    "    print(\"\\nEl \" + orden [i] + \" libro de mario Vargas Llosa es :\" + libro)"
   ]
  },
  {
   "cell_type": "code",
   "execution_count": 26,
   "id": "4f7c71ef-bf2d-4fce-9afe-0b3ea50b65b8",
   "metadata": {},
   "outputs": [
    {
     "name": "stdout",
     "output_type": "stream",
     "text": [
      "Hola Joel.  !Por favor , ven a mi fiesta el sabado!\n",
      "Hola Nati.  !Por favor , ven a mi fiesta el sabado!\n",
      "Hola Jehu.  !Por favor , ven a mi fiesta el sabado!\n",
      "Hola Angeles.  !Por favor , ven a mi fiesta el sabado!\n",
      "Hola Maryori.  !Por favor , ven a mi fiesta el sabado!\n",
      "Hola Lucila.  !Por favor , ven a mi fiesta el sabado!\n",
      "Hola Mirella.  !Por favor , ven a mi fiesta el sabado!\n",
      "Hola Cesar.  !Por favor , ven a mi fiesta el sabado!\n"
     ]
    }
   ],
   "source": [
    "for f in [\"Joel\",\"Nati\",\"Jehu\",\"Angeles\",\"Maryori\",\"Lucila\",\"Mirella\",\"Cesar\"]:\n",
    "    invitation = \"Hola \" + f + \".  !Por favor , ven a mi fiesta el sabado!\"\n",
    "    print(invitation)"
   ]
  },
  {
   "cell_type": "code",
   "execution_count": 28,
   "id": "2f00c941-d626-4af3-b8fe-2ebae51aa46f",
   "metadata": {},
   "outputs": [
    {
     "name": "stdout",
     "output_type": "stream",
     "text": [
      "10\n",
      "5.5\n",
      "2\n",
      "10\n",
      "55\n",
      "0\n"
     ]
    }
   ],
   "source": [
    "def mysum(xs):\n",
    "    \"\"\"Suma los numeros de la lista xs, y devuelve el total.\"\"\"\n",
    "    running_total = 0\n",
    "    for x in xs:\n",
    "        running_total = running_total + x\n",
    "    return running_total\n",
    "print(mysum([1,2,3,4]))\n",
    "print(mysum([1.25,2.5,1.75]))\n",
    "print(mysum([1,-2,3]))\n",
    "print(mysum([1,2,3,4]))\n",
    "print(mysum(range(11)))\n",
    "print(mysum([]))"
   ]
  },
  {
   "cell_type": "code",
   "execution_count": 30,
   "id": "0fa98229-5aee-4e0e-8692-ffa055b5cfd9",
   "metadata": {},
   "outputs": [
    {
     "data": {
      "text/plain": [
       "10"
      ]
     },
     "execution_count": 30,
     "metadata": {},
     "output_type": "execute_result"
    }
   ],
   "source": [
    "m = [1,2,3,4]\n",
    "sum(m)"
   ]
  },
  {
   "cell_type": "code",
   "execution_count": 31,
   "id": "5e58f3dd-f9b6-44c8-863e-0cb56b18a261",
   "metadata": {},
   "outputs": [
    {
     "name": "stdin",
     "output_type": "stream",
     "text": [
      "ingrese un numero: 3\n"
     ]
    },
    {
     "name": "stdout",
     "output_type": "stream",
     "text": [
      "\n",
      "Los multiplos de  3 son:\n",
      "3  6  9  12  15  18  21  24  27  \n"
     ]
    }
   ],
   "source": [
    "def multiplos (n):\n",
    "    for i in range (1,10):\n",
    "        print(n * i, end=\"  \")\n",
    "    print()\n",
    "m = int (input(\"ingrese un numero:\"))\n",
    "print(\"\\nLos multiplos de \",m,\"son:\")\n",
    "multiplos(m)"
   ]
  },
  {
   "cell_type": "code",
   "execution_count": 32,
   "id": "cbe936ab-7e74-4940-8335-a83ea70beb4a",
   "metadata": {},
   "outputs": [
    {
     "name": "stdout",
     "output_type": "stream",
     "text": [
      "0 0 0\n",
      "0 0 1\n",
      "0 1 0\n",
      "0 1 1\n",
      "0 2 0\n",
      "0 2 1\n",
      "0 3 0\n",
      "0 3 1\n",
      "1 0 0\n",
      "1 0 1\n",
      "1 1 0\n",
      "1 1 1\n",
      "1 2 0\n",
      "1 2 1\n",
      "1 3 0\n",
      "1 3 1\n",
      "2 0 0\n",
      "2 0 1\n",
      "2 1 0\n",
      "2 1 1\n",
      "2 2 0\n",
      "2 2 1\n",
      "2 3 0\n",
      "2 3 1\n",
      "3 0 0\n",
      "3 0 1\n",
      "3 1 0\n",
      "3 1 1\n",
      "3 2 0\n",
      "3 2 1\n",
      "3 3 0\n",
      "3 3 1\n"
     ]
    }
   ],
   "source": [
    "for i in range(0,4):\n",
    "    for j in range(0,4):\n",
    "        for k in range(0,2):\n",
    "            print(i,j,k)"
   ]
  },
  {
   "cell_type": "code",
   "execution_count": 35,
   "id": "7592a5a6-96d0-49a6-89dc-cb496f1a2da1",
   "metadata": {},
   "outputs": [
    {
     "name": "stdin",
     "output_type": "stream",
     "text": [
      "Ingrese un numero:  6\n"
     ]
    },
    {
     "name": "stdout",
     "output_type": "stream",
     "text": [
      "La raiz 2-esima de 6.0 es 2.449489742783178\n",
      "La raiz 3-esima de 6.0 es 1.8171205928321397\n",
      "La raiz 4-esima de 6.0 es 1.5650845800732873\n",
      "La raiz 5-esima de 6.0 es 1.4309690811052556\n",
      "La raiz 6-esima de 6.0 es 1.3480061545972777\n",
      "La raiz 7-esima de 6.0 es 1.2917083420907467\n",
      "La raiz 8-esima de 6.0 es 1.2510334048590739\n",
      "La raiz 9-esima de 6.0 es 1.2202849358728105\n",
      "La raiz 10-esima de 6.0 es 1.1962311988513155\n",
      "La raiz 11-esima de 6.0 es 1.1769039562428527\n",
      "La raiz 12-esima de 6.0 es 1.1610366723739942\n",
      "La raiz 13-esima de 6.0 es 1.1477777154347986\n",
      "La raiz 14-esima de 6.0 es 1.1365334760097243\n",
      "La raiz 15-esima de 6.0 es 1.1268776101908264\n",
      "La raiz 16-esima de 6.0 es 1.1184960459738218\n",
      "La raiz 17-esima de 6.0 es 1.1111523342970424\n",
      "La raiz 18-esima de 6.0 es 1.1046650785974952\n",
      "La raiz 19-esima de 6.0 es 1.0988928027655247\n",
      "La raiz 20-esima de 6.0 es 1.0937235477264424\n",
      "La raiz 21-esima de 6.0 es 1.0890675587944523\n",
      "La raiz 22-esima de 6.0 es 1.0848520434800557\n",
      "La raiz 23-esima de 6.0 es 1.0810173469046067\n",
      "La raiz 24-esima de 6.0 es 1.0775141170184241\n",
      "La raiz 25-esima de 6.0 es 1.0743011732208552\n",
      "La raiz 26-esima de 6.0 es 1.0713438829035236\n",
      "La raiz 27-esima de 6.0 es 1.0686129101356392\n",
      "La raiz 28-esima de 6.0 es 1.0660832406569969\n",
      "La raiz 29-esima de 6.0 es 1.063733414541692\n",
      "La raiz 30-esima de 6.0 es 1.0615449167090512\n",
      "La raiz 31-esima de 6.0 es 1.0595016886637296\n",
      "La raiz 32-esima de 6.0 es 1.0575897342418854\n",
      "La raiz 33-esima de 6.0 es 1.0557967989083417\n",
      "La raiz 34-esima de 6.0 es 1.0541121070820896\n",
      "La raiz 35-esima de 6.0 es 1.0525261456012585\n",
      "La raiz 36-esima de 6.0 es 1.0510304841428222\n",
      "La raiz 37-esima de 6.0 es 1.0496176254437533\n",
      "La raiz 38-esima de 6.0 es 1.0482808797099776\n",
      "La raiz 39-esima de 6.0 es 1.0470142587761369\n",
      "La raiz 40-esima de 6.0 es 1.045812386485474\n",
      "La raiz 41-esima de 6.0 es 1.0446704224624213\n",
      "La raiz 42-esima de 6.0 es 1.0435839969999792\n",
      "La raiz 43-esima de 6.0 es 1.042549155216214\n",
      "La raiz 44-esima de 6.0 es 1.0415623089763069\n",
      "La raiz 45-esima de 6.0 es 1.0406201953489853\n",
      "La raiz 46-esima de 6.0 es 1.039719840584283\n",
      "La raiz 47-esima de 6.0 es 1.038858528775155\n",
      "La raiz 48-esima de 6.0 es 1.0380337745075658\n",
      "La raiz 49-esima de 6.0 es 1.0372432989191824\n",
      "La raiz 50-esima de 6.0 es 1.0364850086811943\n",
      "La raiz 51-esima de 6.0 es 1.0357569774952138\n",
      "La raiz 52-esima de 6.0 es 1.0350574297610367\n",
      "La raiz 53-esima de 6.0 es 1.0343847261238408\n",
      "La raiz 54-esima de 6.0 es 1.0337373506532688\n",
      "La raiz 55-esima de 6.0 es 1.0331138994434157\n",
      "La raiz 56-esima de 6.0 es 1.0325130704533463\n",
      "La raiz 57-esima de 6.0 es 1.0319336544334674\n",
      "La raiz 58-esima de 6.0 es 1.0313745268047354\n",
      "La raiz 59-esima de 6.0 es 1.0308346403759792\n",
      "La raiz 60-esima de 6.0 es 1.0303130188001368\n",
      "La raiz 61-esima de 6.0 es 1.0298087506834\n",
      "La raiz 62-esima de 6.0 es 1.0293209842725104\n",
      "La raiz 63-esima de 6.0 es 1.0288489226550819\n",
      "La raiz 64-esima de 6.0 es 1.0283918194160655\n",
      "La raiz 65-esima de 6.0 es 1.0279489747005777\n",
      "La raiz 66-esima de 6.0 es 1.027519731639418\n",
      "La raiz 67-esima de 6.0 es 1.0271034730988913\n",
      "La raiz 68-esima de 6.0 es 1.0266996187211181\n",
      "La raiz 69-esima de 6.0 es 1.0263076222249912\n",
      "La raiz 70-esima de 6.0 es 1.0259269689413855\n",
      "La raiz 71-esima de 6.0 es 1.0255571735592441\n",
      "La raiz 72-esima de 6.0 es 1.0251977780617856\n",
      "La raiz 73-esima de 6.0 es 1.0248483498343846\n",
      "La raiz 74-esima de 6.0 es 1.0245084799276936\n",
      "La raiz 75-esima de 6.0 es 1.0241777814613477\n",
      "La raiz 76-esima de 6.0 es 1.0238558881551532\n",
      "La raiz 77-esima de 6.0 es 1.0235424529760397\n",
      "La raiz 78-esima de 6.0 es 1.0232371468902683\n",
      "La raiz 79-esima de 6.0 es 1.0229396577114687\n",
      "La raiz 80-esima de 6.0 es 1.0226496890360228\n",
      "La raiz 81-esima de 6.0 es 1.0223669592581706\n",
      "La raiz 82-esima de 6.0 es 1.0220912006579554\n",
      "La raiz 83-esima de 6.0 es 1.021822158555803\n",
      "La raiz 84-esima de 6.0 es 1.0215595905281194\n",
      "La raiz 85-esima de 6.0 es 1.0213032656788383\n",
      "La raiz 86-esima de 6.0 es 1.0210529639623078\n",
      "La raiz 87-esima de 6.0 es 1.0208084755533517\n",
      "La raiz 88-esima de 6.0 es 1.0205696002607108\n",
      "La raiz 89-esima de 6.0 es 1.0203361469804202\n",
      "La raiz 90-esima de 6.0 es 1.0201079331859866\n",
      "La raiz 91-esima de 6.0 es 1.0198847844525065\n",
      "La raiz 92-esima de 6.0 es 1.0196665340121167\n",
      "La raiz 93-esima de 6.0 es 1.0194530223384006\n",
      "La raiz 94-esima de 6.0 es 1.0192440967575702\n",
      "La raiz 95-esima de 6.0 es 1.019039611084432\n",
      "La raiz 96-esima de 6.0 es 1.0188394252813178\n",
      "La raiz 97-esima de 6.0 es 1.0186434051383018\n",
      "La raiz 98-esima de 6.0 es 1.018451421973175\n",
      "La raiz 99-esima de 6.0 es 1.0182633523497657\n",
      "La raiz 100-esima de 6.0 es 1.0180790778133073\n"
     ]
    }
   ],
   "source": [
    "numero = float(input(\"Ingrese un numero: \" ))\n",
    "\n",
    "for n in range(2, 101):\n",
    "    print(\"La raiz {0}-esima de {1} es {2}\".format(n,numero,numero**(1/n)))"
   ]
  },
  {
   "cell_type": "code",
   "execution_count": 38,
   "id": "5e778fb4-fe3d-4677-b6ba-78b74a1d5c41",
   "metadata": {},
   "outputs": [
    {
     "name": "stdin",
     "output_type": "stream",
     "text": [
      "Ingrese su nombre: Paco\n"
     ]
    },
    {
     "name": "stdout",
     "output_type": "stream",
     "text": [
      "Nombre Correcto\n",
      "Nombre Correcto\n",
      "Nombre Correcto\n",
      "Nombre Correcto\n"
     ]
    },
    {
     "name": "stdin",
     "output_type": "stream",
     "text": [
      "Ingrese su apellido:  Torres\n"
     ]
    },
    {
     "name": "stdout",
     "output_type": "stream",
     "text": [
      "Nombre Correcto\n",
      "Nombre Correcto\n",
      "Nombre Correcto\n",
      "Nombre Correcto\n",
      "Nombre Correcto\n",
      "Nombre Correcto\n"
     ]
    }
   ],
   "source": [
    "num = ['1','2','3','4','5','6','7','8','9','0']\n",
    "sim = ['?','!','$''%','&','/','ª','º']\n",
    "def validar(nomap):\n",
    "    for x in nomap:\n",
    "        if x in num:\n",
    "            print('Nombre no valido!!!')\n",
    "        elif x in sim:\n",
    "            print('Nombre no valido')\n",
    "        else:\n",
    "            print('Nombre Correcto')\n",
    "            \n",
    "nom = input('Ingrese su nombre:')\n",
    "validar(nom) \n",
    "apell = input('Ingrese su apellido: ')\n",
    "validar(apell)\n",
    "       \n"
   ]
  },
  {
   "cell_type": "code",
   "execution_count": null,
   "id": "7c96b3e0-bc9f-45c4-9fdc-791201918dd5",
   "metadata": {},
   "outputs": [],
   "source": []
  }
 ],
 "metadata": {
  "kernelspec": {
   "display_name": "Python 3 (ipykernel)",
   "language": "python",
   "name": "python3"
  },
  "language_info": {
   "codemirror_mode": {
    "name": "ipython",
    "version": 3
   },
   "file_extension": ".py",
   "mimetype": "text/x-python",
   "name": "python",
   "nbconvert_exporter": "python",
   "pygments_lexer": "ipython3",
   "version": "3.12.7"
  }
 },
 "nbformat": 4,
 "nbformat_minor": 5
}
