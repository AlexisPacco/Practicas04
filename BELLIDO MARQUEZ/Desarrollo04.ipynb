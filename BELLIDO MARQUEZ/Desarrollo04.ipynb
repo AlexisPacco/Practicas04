{
 "cells": [
  {
   "cell_type": "code",
   "execution_count": 1,
   "id": "8c797286-6d5f-4546-b0c5-cb7084278253",
   "metadata": {},
   "outputs": [
    {
     "ename": "SyntaxError",
     "evalue": "invalid syntax (2748449217.py, line 2)",
     "output_type": "error",
     "traceback": [
      "\u001b[0;36m  Cell \u001b[0;32mIn[1], line 2\u001b[0;36m\u001b[0m\n\u001b[0;31m    for <var> in <iterable>:\u001b[0m\n\u001b[0m        ^\u001b[0m\n\u001b[0;31mSyntaxError\u001b[0m\u001b[0;31m:\u001b[0m invalid syntax\n"
     ]
    }
   ],
   "source": [
    "# Estructura Iterativa - Bucle \"for\"\n",
    "for <var> in <iterable>:\n",
    "    <codigo>\n",
    "    <codigo>\n",
    "    .....................\n"
   ]
  },
  {
   "cell_type": "code",
   "execution_count": 2,
   "id": "42b5f6ee-e532-45f4-bf54-bfd49c51e958",
   "metadata": {},
   "outputs": [
    {
     "name": "stdout",
     "output_type": "stream",
     "text": [
      "6\n",
      "23\n",
      "89\n",
      "120\n"
     ]
    }
   ],
   "source": [
    "# 'for' iterando una lista\n",
    "num = [6, 23, 89, 120]\n",
    "for n in num:\n",
    "    print(n)\n"
   ]
  },
  {
   "cell_type": "code",
   "execution_count": 3,
   "id": "a708411a-33eb-4236-ae63-bb53c097f981",
   "metadata": {},
   "outputs": [
    {
     "name": "stdout",
     "output_type": "stream",
     "text": [
      "M\n",
      "a\n",
      "x\n",
      "i\n",
      "m\n",
      "i\n",
      "l\n",
      "i\n",
      "a\n",
      "n\n",
      "o\n"
     ]
    }
   ],
   "source": [
    "# 'for' iterando un string\n",
    "nom = \"Maximiliano\"\n",
    "for letra in nom:\n",
    "    print(letra)\n"
   ]
  },
  {
   "cell_type": "code",
   "execution_count": 4,
   "id": "25af3580-05aa-4218-b437-a9ce869d04d4",
   "metadata": {},
   "outputs": [
    {
     "name": "stdout",
     "output_type": "stream",
     "text": [
      "Hola Milita, la longitud de tu nombre es de: 6 caracteres. \n",
      "Hola Luisito, la longitud de tu nombre es de: 7 caracteres. \n",
      "Hola Pablito, la longitud de tu nombre es de: 7 caracteres. \n",
      "Hola Alexandito, la longitud de tu nombre es de: 10 caracteres. \n"
     ]
    }
   ],
   "source": [
    "# 'for' hallando la longitud de los elementos de una lista\n",
    "for nombre in ['Milita', 'Luisito', 'Pablito', 'Alexandito']:\n",
    "    print('Hola {0}, la longitud de tu nombre es de: {1} caracteres. '.format(nombre,len(nombre)))"
   ]
  },
  {
   "cell_type": "code",
   "execution_count": 5,
   "id": "58d233bb-3a99-4f1a-a11a-da730d0f254c",
   "metadata": {},
   "outputs": [
    {
     "name": "stdout",
     "output_type": "stream",
     "text": [
      "['amarillo', 'rojo', 'verde', 'purpura', 'negro']\n"
     ]
    }
   ],
   "source": [
    "# lista de colores\n",
    "colo = [\"amarillo\", \"rojo\", \"verde\", \"azul\", \"purpura\", \"blanco\", \"negro\", \"limon\"]\n",
    "# nueva lista\n",
    "color_con_r = []\n",
    "\n",
    "for n in colo:\n",
    "    if 'r' in n:\n",
    "        color_con_r.append(n)\n",
    "\n",
    "print(color_con_r)\n"
   ]
  },
  {
   "cell_type": "code",
   "execution_count": 6,
   "id": "44cc297f-cdef-4add-b9dc-4d24459a56c0",
   "metadata": {},
   "outputs": [
    {
     "name": "stdout",
     "output_type": "stream",
     "text": [
      "0\n",
      "1\n",
      "2\n",
      "3\n",
      "4\n",
      "5\n",
      "6\n",
      "7\n",
      "8\n",
      "9\n",
      "10\n",
      "11\n"
     ]
    }
   ],
   "source": [
    "# Funcion range()\n",
    "\n",
    "# 'for' utilizando la funcion 'range' con 1 parametro\n",
    "for i in range(12):\n",
    "    print(i)\n"
   ]
  },
  {
   "cell_type": "code",
   "execution_count": 7,
   "id": "3353763f-b74b-4296-a6d2-479d4b7b80be",
   "metadata": {},
   "outputs": [
    {
     "name": "stdout",
     "output_type": "stream",
     "text": [
      "1 2 3 4 5 6 7 8 9 10 "
     ]
    }
   ],
   "source": [
    "# Podemos usar un argumento\n",
    "# añadir el parametro end=\"\" para que por defecto no genere una nueva linea\n",
    "\n",
    "for i in range(10):\n",
    "    print(i + 1, \"\", end=\"\")"
   ]
  },
  {
   "cell_type": "code",
   "execution_count": 8,
   "id": "6c1f05b1-9e35-4519-9a26-e4c2890a5ce1",
   "metadata": {},
   "outputs": [
    {
     "name": "stdout",
     "output_type": "stream",
     "text": [
      "1 2 3 4 5 6 7 8 9 10 "
     ]
    }
   ],
   "source": [
    "# Podemos usar dos valores para definir el inicio y el final\n",
    "\n",
    "for i in range(1, 11):\n",
    "    print(i, \"\", end=\"\")"
   ]
  },
  {
   "cell_type": "code",
   "execution_count": 9,
   "id": "bbc52ea8-9c84-47e1-b79b-5ba4401a7960",
   "metadata": {},
   "outputs": [
    {
     "name": "stdout",
     "output_type": "stream",
     "text": [
      "2 4 6 8 10 "
     ]
    }
   ],
   "source": [
    "# Podemos usar 3 para definir un inicio, un final y una longitud de paso(en este caso 2)\n",
    "\n",
    "for i in range(2, 12, 2):\n",
    "    print(i, \"\", end=\"\")"
   ]
  },
  {
   "cell_type": "code",
   "execution_count": 10,
   "id": "e4aa9068-0743-4376-a0de-379aad03461f",
   "metadata": {},
   "outputs": [
    {
     "name": "stdout",
     "output_type": "stream",
     "text": [
      "20 18 16 14 12 10 8 6 4 2 "
     ]
    }
   ],
   "source": [
    "# inicio=20, un final=0 y una longitud de paso -2\n",
    "for i in range(20, 0, -2):\n",
    "    print(i, \"\", end=\"\")"
   ]
  },
  {
   "cell_type": "code",
   "execution_count": 11,
   "id": "0a6fbd4f-8888-49d5-a58d-596d70b622ab",
   "metadata": {},
   "outputs": [
    {
     "name": "stdout",
     "output_type": "stream",
     "text": [
      "40 35 30 25 20 15 10 5 0 "
     ]
    }
   ],
   "source": [
    "# inicio=40, un final=-5 y una longitud de paso -5\n",
    "for i in range(40, -5, -5):\n",
    "    print(i, \"\",end=\"\")\n"
   ]
  },
  {
   "cell_type": "code",
   "execution_count": 12,
   "id": "e18a2ce5-6fb6-47d8-b886-59091506a299",
   "metadata": {},
   "outputs": [],
   "source": [
    "# inicio=50, un final=-1 y una longitud de paso 5\n",
    "for i in range(50,-1,5):\n",
    "    print(i, \"\", end=\"\")"
   ]
  },
  {
   "cell_type": "code",
   "execution_count": 13,
   "id": "77095d09-9af2-403d-9568-514b02513dd6",
   "metadata": {},
   "outputs": [
    {
     "name": "stdout",
     "output_type": "stream",
     "text": [
      "5\n"
     ]
    }
   ],
   "source": [
    "# Modificando la  iteracion del bucle for: break y contuniue\n",
    "\n",
    "#lista de numero\n",
    "lista = [2, 4, 5, 7, 8, 9, 3, 4]\n",
    "\n",
    "# utilizaremos un contador iniciamos en 0 o en -1??\n",
    "cont = -1\n",
    "\n",
    "for m in lista:\n",
    "    cont = cont + 1\n",
    "    if m == 9:\n",
    "        break\n",
    "\n",
    "print(cont)"
   ]
  },
  {
   "cell_type": "code",
   "execution_count": 14,
   "id": "90dec275-77b0-4024-b069-c2c136b4d9b3",
   "metadata": {},
   "outputs": [
    {
     "name": "stdout",
     "output_type": "stream",
     "text": [
      "2\n"
     ]
    }
   ],
   "source": [
    "contador = 1\n",
    "# contador = contador + 1\n",
    "contador /= 5                # Hay abreviaturas similares para -=, *=, /=, //= y %=:\n",
    "c=1\n",
    "c+=1\n",
    "print(c)"
   ]
  },
  {
   "cell_type": "code",
   "execution_count": 15,
   "id": "10975831-39ff-44b6-9abf-bf11b5d34e58",
   "metadata": {},
   "outputs": [
    {
     "name": "stdout",
     "output_type": "stream",
     "text": [
      "No se encontro el numero 9\n"
     ]
    }
   ],
   "source": [
    "# lista de numeros sin el numero '9'\n",
    "lista = [2, 4, 5, 7, 8, 19, 3, 4]\n",
    "\n",
    "# utilizamos un contador reducido\n",
    "cont = -1\n",
    "\n",
    "for m in lista:\n",
    "    cont += 1\n",
    "    if m == 9:\n",
    "        break\n",
    "else:\n",
    "## Usamos 'for' conjuntamente con 'else'\n",
    "    cont = -1\n",
    "    print(\"No se encontro el numero 9\")\n",
    "\n",
    "if cont >= 0:\n",
    "    print(cont)\n",
    "\n",
    "\n",
    "## Usamos 'for' conjuntamente con 'else'\n"
   ]
  },
  {
   "cell_type": "code",
   "execution_count": 16,
   "id": "553a57a5-178d-4ed7-8624-25377634ae97",
   "metadata": {},
   "outputs": [
    {
     "name": "stdout",
     "output_type": "stream",
     "text": [
      "12\n",
      "14\n",
      "108\n",
      "90\n",
      "200\n"
     ]
    }
   ],
   "source": [
    "## Hacer un programa de una lista de numeros imprima solo numeros pares:\n",
    "\n",
    "# lista de numeros\n",
    "num = [12, 14, 15, 27, 108, 90, 33, 49, 200]\n",
    "\n",
    "for p in num:\n",
    "    if p % 2 != 0:\n",
    "        continue\n",
    "    print(p)\n"
   ]
  },
  {
   "cell_type": "code",
   "execution_count": null,
   "id": "149cbbf3-51c1-4ce1-b24c-72cac7f1a2fd",
   "metadata": {},
   "outputs": [],
   "source": []
  }
 ],
 "metadata": {
  "kernelspec": {
   "display_name": "Python 3 (ipykernel)",
   "language": "python",
   "name": "python3"
  },
  "language_info": {
   "codemirror_mode": {
    "name": "ipython",
    "version": 3
   },
   "file_extension": ".py",
   "mimetype": "text/x-python",
   "name": "python",
   "nbconvert_exporter": "python",
   "pygments_lexer": "ipython3",
   "version": "3.12.7"
  }
 },
 "nbformat": 4,
 "nbformat_minor": 5
}
