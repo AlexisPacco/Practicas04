{
 "cells": [
  {
   "cell_type": "code",
   "execution_count": 27,
   "id": "26eb798a-2c69-4510-b561-a71a289ee558",
   "metadata": {},
   "outputs": [
    {
     "name": "stdout",
     "output_type": "stream",
     "text": [
      "0\n",
      "2\n",
      "4\n",
      "6\n",
      "8\n",
      "10\n"
     ]
    }
   ],
   "source": [
    "### Estructura iterativa for\n",
    "\n",
    "## hacer un programa mostrar por pantalla los numeros áres del 0 al 10:\n",
    "for num in range(0, 11, 2):\n",
    "    print(num)\n"
   ]
  },
  {
   "cell_type": "code",
   "execution_count": 41,
   "id": "9b0bdf1a-83f8-46c0-8bc0-2d0514eaf269",
   "metadata": {},
   "outputs": [
    {
     "name": "stdin",
     "output_type": "stream",
     "text": [
      "De cuantos elementos crearemos la lista de nombres :  3\n",
      "Ingresar Nombre de la posicion 0 :  Juancito\n",
      "Ingresar Nombre de la posicion 1 :  Luisito\n",
      "Ingresar Nombre de la posicion 2 :  Marianita\n"
     ]
    },
    {
     "name": "stdout",
     "output_type": "stream",
     "text": [
      "\n",
      " la lista completa de Nombres es :\n",
      " ['Juancito', 'Luisito', 'Marianita']\n"
     ]
    }
   ],
   "source": [
    "## Hacer un programa que permita ingresar nombres a una lista, utilizando funciones:\n",
    "\n",
    "#Inicializamos la lista vacia\n",
    "nombres = []\n",
    "\n",
    "#funcion ingreso nombre\n",
    "def ingreso(l):\n",
    "    for i in range(0, l):\n",
    "        m = input(\"Ingresar Nombre de la posicion {0} : \".format(i))\n",
    "        nombres.append(m)\n",
    "\n",
    "#Preguntamos de cuantos elementos conforman la lista\n",
    "l = int(input(\"De cuantos elementos crearemos la lista de nombres : \"))\n",
    "\n",
    "ingreso(l)\n",
    "print(\"\\n la lista completa de Nombres es :\\n\",nombres)\n"
   ]
  },
  {
   "cell_type": "code",
   "execution_count": 42,
   "id": "6bc3fc23-fa56-463c-a280-31b14c7dc38a",
   "metadata": {},
   "outputs": [
    {
     "name": "stdout",
     "output_type": "stream",
     "text": [
      "No se encontro el numero 9\n"
     ]
    }
   ],
   "source": [
    "## Metodo2: Hacer un programa que de una lista de numeros imprima la posicion del numero 9, utilizando funcion 'enumerate'\n",
    "\n",
    "#lista de numeros\n",
    "lista = [2, 4, 5, 7, 8, 19, 3, 4]\n",
    "\n",
    "#utilizo la funcion 'enumerate' qe devuelve una tupla\n",
    "#tupla de 2 elementos de una lista (posicion, contenido)\n",
    "for i,m in enumerate(lista):\n",
    "    if m == 9:\n",
    "        break\n",
    "else:\n",
    "## Usamos 'for' conjuntamente con 'else'\n",
    "    #ponemos negativa la posicion\n",
    "    i = -1\n",
    "    print('No se encontro el numero 9')\n",
    "\n",
    "if i >=0:\n",
    "    print(i)\n"
   ]
  },
  {
   "cell_type": "code",
   "execution_count": 43,
   "id": "5eafa578-fca4-4a0b-8e0b-df1575bc8515",
   "metadata": {},
   "outputs": [
    {
     "name": "stdout",
     "output_type": "stream",
     "text": [
      "\n",
      "El primer libro de Mario Vargas Llosa es: La ciudad y los perros\n",
      "\n",
      "El segundo libro de Mario Vargas Llosa es: La casa verde\n",
      "\n",
      "El tercer libro de Mario Vargas Llosa es: Pantaleon y las visitadoras\n"
     ]
    }
   ],
   "source": [
    "## Hacer un programa que lea la lista de obras de Mario Vargas Llosa e indique el orden de los libros\n",
    "\n",
    "#Lista de Libros de Mario Vargas Llosa\n",
    "obras_mvll = [\"La ciudad y los perros\", \"La casa verde\", \"Pantaleon y las visitadoras\"]\n",
    "#Lista Orden de los libros\n",
    "orden = [\"primer\", \"segundo\", \"tercer\"]\n",
    "\n",
    "#Utilizamos enumerate\n",
    "for i, libro in enumerate(obras_mvll):\n",
    "    print(\"\\nEl \" + orden[i] + \" libro de Mario Vargas Llosa es: \" + libro)\n",
    "    "
   ]
  },
  {
   "cell_type": "code",
   "execution_count": 44,
   "id": "0cda448d-4f31-4ed4-8783-d45f04918749",
   "metadata": {},
   "outputs": [
    {
     "name": "stdout",
     "output_type": "stream",
     "text": [
      "Hola Joel. ¡Por favor, ven a mi fiesta el sabado!\n",
      "Hola Naty. ¡Por favor, ven a mi fiesta el sabado!\n",
      "Hola Jehu. ¡Por favor, ven a mi fiesta el sabado!\n",
      "Hola Angeles. ¡Por favor, ven a mi fiesta el sabado!\n",
      "Hola Maryori. ¡Por favor, ven a mi fiesta el sabado!\n",
      "Hola Lucita. ¡Por favor, ven a mi fiesta el sabado!\n",
      "Hola Mirella. ¡Por favor, ven a mi fiesta el sabado!\n",
      "Hola Cesar. ¡Por favor, ven a mi fiesta el sabado!\n"
     ]
    }
   ],
   "source": [
    "## Hacer un programa que realice invitaciones de una lista de nombres\n",
    "\n",
    "for f in [\"Joel\", \"Naty\", \"Jehu\", \"Angeles\", \"Maryori\", \"Lucita\", \"Mirella\", \"Cesar\"]:\n",
    "    invitation = \"Hola \" + f + \". ¡Por favor, ven a mi fiesta el sabado!\"\n",
    "    print (invitation)"
   ]
  },
  {
   "cell_type": "code",
   "execution_count": 46,
   "id": "70ba8028-e5c8-4fa0-aaf5-8e45d9a35350",
   "metadata": {},
   "outputs": [
    {
     "name": "stdout",
     "output_type": "stream",
     "text": [
      "10\n",
      "5.5\n",
      "2\n",
      "10\n",
      "55\n",
      "0\n"
     ]
    }
   ],
   "source": [
    "## Hacer un programa que sume los elementos de una lista, utilizar funciones y for\n",
    "\n",
    "#solicita usar for y funciones, NO SE PUEDE USAR funcion 'sum'\n",
    "def mysum(xs):\n",
    "    \"\"\" Suma todos los numeros de la lista xs, y devuelve el total. \"\"\"\n",
    "    running_total = 0\n",
    "    for x in xs:\n",
    "        running_total = running_total + x\n",
    "    return running_total\n",
    "\n",
    "#add test like these to you test siute ...\n",
    "print(mysum([1, 2, 3, 4]))        # ==>> 10\n",
    "print(mysum([1.25, 2.5, 1.75]))     # ==>> 5.5\n",
    "print(mysum([1, -2, 3]))          # ==>> 2\n",
    "print(mysum([1, 2, 3, 4]))     # ==>> 10\n",
    "print(mysum(range(11)))       # ==>> 55\n",
    "print(mysum([]))               # ==>> 0\n"
   ]
  },
  {
   "cell_type": "code",
   "execution_count": 47,
   "id": "c593e768-998e-49b9-81be-de2645a7088a",
   "metadata": {},
   "outputs": [
    {
     "data": {
      "text/plain": [
       "10"
      ]
     },
     "execution_count": 47,
     "metadata": {},
     "output_type": "execute_result"
    }
   ],
   "source": [
    "## Hacer un programa que sume los elementos de una lista, usamos funcion sum\n",
    "\n",
    "m = [1, 2, 3, 4]\n",
    "sum(m)"
   ]
  },
  {
   "cell_type": "code",
   "execution_count": 48,
   "id": "3c04dc4b-e592-4888-a110-7d34b3503a1b",
   "metadata": {},
   "outputs": [
    {
     "name": "stdin",
     "output_type": "stream",
     "text": [
      "Ingrese un numero:  3\n"
     ]
    },
    {
     "name": "stdout",
     "output_type": "stream",
     "text": [
      "\n",
      "Los multiplos de  3 son: \n",
      "3  6  9  12  15  18  21  24  27  30  \n"
     ]
    }
   ],
   "source": [
    "## Hacer un programa que imprima los multiplos hasta el numero 10 de cualquier numero\n",
    "\n",
    "#Creamos la funcion multiplos\n",
    "def multiplos(n):\n",
    "    for i in range(1, 11):\n",
    "        print(n * i, end=\"  \")\n",
    "    print()\n",
    "\n",
    "#Llamamos a la funcion con el numero de multiplo deseado\n",
    "m = int(input(\"Ingrese un numero: \"))\n",
    "print(\"\\nLos multiplos de \", m, \"son: \")\n",
    "multiplos(m)\n"
   ]
  },
  {
   "cell_type": "code",
   "execution_count": 49,
   "id": "d9f8c4bf-3046-4349-87ee-cdb4455ae34e",
   "metadata": {},
   "outputs": [
    {
     "name": "stdout",
     "output_type": "stream",
     "text": [
      "0 0 0\n",
      "0 0 1\n",
      "0 1 0\n",
      "0 1 1\n",
      "0 2 0\n",
      "0 2 1\n",
      "0 3 0\n",
      "0 3 1\n",
      "1 0 0\n",
      "1 0 1\n",
      "1 1 0\n",
      "1 1 1\n",
      "1 2 0\n",
      "1 2 1\n",
      "1 3 0\n",
      "1 3 1\n",
      "2 0 0\n",
      "2 0 1\n",
      "2 1 0\n",
      "2 1 1\n",
      "2 2 0\n",
      "2 2 1\n",
      "2 3 0\n",
      "2 3 1\n",
      "3 0 0\n",
      "3 0 1\n",
      "3 1 0\n",
      "3 1 1\n",
      "3 2 0\n",
      "3 2 1\n",
      "3 3 0\n",
      "3 3 1\n"
     ]
    }
   ],
   "source": [
    "## Ejemplo de for anidado: Creacion de tablas\n",
    "\n",
    "for i in range(0, 4):\n",
    "    for j in range(0, 4):\n",
    "        for k in range(0, 2):\n",
    "            print(i, j, k)\n"
   ]
  },
  {
   "cell_type": "code",
   "execution_count": 50,
   "id": "593258c3-ce39-4acc-8343-b3cd73f02442",
   "metadata": {},
   "outputs": [
    {
     "name": "stdin",
     "output_type": "stream",
     "text": [
      "Ingrese un numero:  6\n"
     ]
    },
    {
     "name": "stdout",
     "output_type": "stream",
     "text": [
      "la raiz 2-esima de 6.0 es 2.449489742783178\n",
      "la raiz 3-esima de 6.0 es 1.8171205928321397\n",
      "la raiz 4-esima de 6.0 es 1.5650845800732873\n",
      "la raiz 5-esima de 6.0 es 1.4309690811052556\n",
      "la raiz 6-esima de 6.0 es 1.3480061545972777\n",
      "la raiz 7-esima de 6.0 es 1.2917083420907467\n",
      "la raiz 8-esima de 6.0 es 1.2510334048590739\n",
      "la raiz 9-esima de 6.0 es 1.2202849358728105\n",
      "la raiz 10-esima de 6.0 es 1.1962311988513155\n",
      "la raiz 11-esima de 6.0 es 1.1769039562428527\n",
      "la raiz 12-esima de 6.0 es 1.1610366723739942\n",
      "la raiz 13-esima de 6.0 es 1.1477777154347986\n",
      "la raiz 14-esima de 6.0 es 1.1365334760097243\n",
      "la raiz 15-esima de 6.0 es 1.1268776101908264\n",
      "la raiz 16-esima de 6.0 es 1.1184960459738218\n",
      "la raiz 17-esima de 6.0 es 1.1111523342970424\n",
      "la raiz 18-esima de 6.0 es 1.1046650785974952\n",
      "la raiz 19-esima de 6.0 es 1.0988928027655247\n",
      "la raiz 20-esima de 6.0 es 1.0937235477264424\n",
      "la raiz 21-esima de 6.0 es 1.0890675587944523\n",
      "la raiz 22-esima de 6.0 es 1.0848520434800557\n",
      "la raiz 23-esima de 6.0 es 1.0810173469046067\n",
      "la raiz 24-esima de 6.0 es 1.0775141170184241\n",
      "la raiz 25-esima de 6.0 es 1.0743011732208552\n",
      "la raiz 26-esima de 6.0 es 1.0713438829035236\n",
      "la raiz 27-esima de 6.0 es 1.0686129101356392\n",
      "la raiz 28-esima de 6.0 es 1.0660832406569969\n",
      "la raiz 29-esima de 6.0 es 1.063733414541692\n",
      "la raiz 30-esima de 6.0 es 1.0615449167090512\n",
      "la raiz 31-esima de 6.0 es 1.0595016886637296\n",
      "la raiz 32-esima de 6.0 es 1.0575897342418854\n",
      "la raiz 33-esima de 6.0 es 1.0557967989083417\n",
      "la raiz 34-esima de 6.0 es 1.0541121070820896\n",
      "la raiz 35-esima de 6.0 es 1.0525261456012585\n",
      "la raiz 36-esima de 6.0 es 1.0510304841428222\n",
      "la raiz 37-esima de 6.0 es 1.0496176254437533\n",
      "la raiz 38-esima de 6.0 es 1.0482808797099776\n",
      "la raiz 39-esima de 6.0 es 1.0470142587761369\n",
      "la raiz 40-esima de 6.0 es 1.045812386485474\n",
      "la raiz 41-esima de 6.0 es 1.0446704224624213\n",
      "la raiz 42-esima de 6.0 es 1.0435839969999792\n",
      "la raiz 43-esima de 6.0 es 1.042549155216214\n",
      "la raiz 44-esima de 6.0 es 1.0415623089763069\n",
      "la raiz 45-esima de 6.0 es 1.0406201953489853\n",
      "la raiz 46-esima de 6.0 es 1.039719840584283\n",
      "la raiz 47-esima de 6.0 es 1.038858528775155\n",
      "la raiz 48-esima de 6.0 es 1.0380337745075658\n",
      "la raiz 49-esima de 6.0 es 1.0372432989191824\n",
      "la raiz 50-esima de 6.0 es 1.0364850086811943\n",
      "la raiz 51-esima de 6.0 es 1.0357569774952138\n",
      "la raiz 52-esima de 6.0 es 1.0350574297610367\n",
      "la raiz 53-esima de 6.0 es 1.0343847261238408\n",
      "la raiz 54-esima de 6.0 es 1.0337373506532688\n",
      "la raiz 55-esima de 6.0 es 1.0331138994434157\n",
      "la raiz 56-esima de 6.0 es 1.0325130704533463\n",
      "la raiz 57-esima de 6.0 es 1.0319336544334674\n",
      "la raiz 58-esima de 6.0 es 1.0313745268047354\n",
      "la raiz 59-esima de 6.0 es 1.0308346403759792\n",
      "la raiz 60-esima de 6.0 es 1.0303130188001368\n",
      "la raiz 61-esima de 6.0 es 1.0298087506834\n",
      "la raiz 62-esima de 6.0 es 1.0293209842725104\n",
      "la raiz 63-esima de 6.0 es 1.0288489226550819\n",
      "la raiz 64-esima de 6.0 es 1.0283918194160655\n",
      "la raiz 65-esima de 6.0 es 1.0279489747005777\n",
      "la raiz 66-esima de 6.0 es 1.027519731639418\n",
      "la raiz 67-esima de 6.0 es 1.0271034730988913\n",
      "la raiz 68-esima de 6.0 es 1.0266996187211181\n",
      "la raiz 69-esima de 6.0 es 1.0263076222249912\n",
      "la raiz 70-esima de 6.0 es 1.0259269689413855\n",
      "la raiz 71-esima de 6.0 es 1.0255571735592441\n",
      "la raiz 72-esima de 6.0 es 1.0251977780617856\n",
      "la raiz 73-esima de 6.0 es 1.0248483498343846\n",
      "la raiz 74-esima de 6.0 es 1.0245084799276936\n",
      "la raiz 75-esima de 6.0 es 1.0241777814613477\n",
      "la raiz 76-esima de 6.0 es 1.0238558881551532\n",
      "la raiz 77-esima de 6.0 es 1.0235424529760397\n",
      "la raiz 78-esima de 6.0 es 1.0232371468902683\n",
      "la raiz 79-esima de 6.0 es 1.0229396577114687\n",
      "la raiz 80-esima de 6.0 es 1.0226496890360228\n",
      "la raiz 81-esima de 6.0 es 1.0223669592581706\n",
      "la raiz 82-esima de 6.0 es 1.0220912006579554\n",
      "la raiz 83-esima de 6.0 es 1.021822158555803\n",
      "la raiz 84-esima de 6.0 es 1.0215595905281194\n",
      "la raiz 85-esima de 6.0 es 1.0213032656788383\n",
      "la raiz 86-esima de 6.0 es 1.0210529639623078\n",
      "la raiz 87-esima de 6.0 es 1.0208084755533517\n",
      "la raiz 88-esima de 6.0 es 1.0205696002607108\n",
      "la raiz 89-esima de 6.0 es 1.0203361469804202\n",
      "la raiz 90-esima de 6.0 es 1.0201079331859866\n",
      "la raiz 91-esima de 6.0 es 1.0198847844525065\n",
      "la raiz 92-esima de 6.0 es 1.0196665340121167\n",
      "la raiz 93-esima de 6.0 es 1.0194530223384006\n",
      "la raiz 94-esima de 6.0 es 1.0192440967575702\n",
      "la raiz 95-esima de 6.0 es 1.019039611084432\n",
      "la raiz 96-esima de 6.0 es 1.0188394252813178\n",
      "la raiz 97-esima de 6.0 es 1.0186434051383018\n",
      "la raiz 98-esima de 6.0 es 1.018451421973175\n",
      "la raiz 99-esima de 6.0 es 1.0182633523497657\n",
      "la raiz 100-esima de 6.0 es 1.0180790778133073\n"
     ]
    }
   ],
   "source": [
    "## Hacer un programa que permita hallar la raiz enesima de un numero que se ingresara por el teclado\n",
    "\n",
    "numero = float(input(\"Ingrese un numero: \"))\n",
    "\n",
    "for n in range(2, 101):\n",
    "    print(\"la raiz {0}-esima de {1} es {2}\".format(n, numero, numero**(1/n)))\n"
   ]
  },
  {
   "cell_type": "code",
   "execution_count": 51,
   "id": "18df4672-7f01-4d9e-9dc2-214445ed9697",
   "metadata": {},
   "outputs": [
    {
     "name": "stdin",
     "output_type": "stream",
     "text": [
      "Ingrese su nombre:  paco\n"
     ]
    },
    {
     "name": "stdout",
     "output_type": "stream",
     "text": [
      "Nombre Correcto\n",
      "Nombre Correcto\n",
      "Nombre Correcto\n",
      "Nombre Correcto\n"
     ]
    },
    {
     "name": "stdin",
     "output_type": "stream",
     "text": [
      "Ingrese su apellido:  Torres\n"
     ]
    },
    {
     "name": "stdout",
     "output_type": "stream",
     "text": [
      "Nombre Correcto\n",
      "Nombre Correcto\n",
      "Nombre Correcto\n",
      "Nombre Correcto\n",
      "Nombre Correcto\n",
      "Nombre Correcto\n"
     ]
    }
   ],
   "source": [
    "#creo la lista de validacion\n",
    "num = ['1', '2', '3', '4', '5', '6', '7', '8', '9', '0']\n",
    "sim = ['?', '!', '$', '%', '&', '/', '~','°']\n",
    "\n",
    "#funcion\n",
    "def validar(nomap):\n",
    "    for x in nomap:\n",
    "        if x in num:\n",
    "            print('Nombre no valido!!!')\n",
    "        elif x in sim:\n",
    "            print('Nombre no valido!!!')\n",
    "        else:\n",
    "            print('Nombre Correcto')\n",
    "\n",
    "#ingresar nombre\n",
    "nom = input('Ingrese su nombre: ')\n",
    "\n",
    "#Llamar a la funcion\n",
    "validar(nom)\n",
    "\n",
    "#ingresar nombre\n",
    "apell = input('Ingrese su apellido: ')\n",
    "\n",
    "#llamar a la funcion\n",
    "validar(apell)\n"
   ]
  },
  {
   "cell_type": "code",
   "execution_count": null,
   "id": "9725378b-ea82-46b5-8854-d5dc0669e558",
   "metadata": {},
   "outputs": [],
   "source": []
  }
 ],
 "metadata": {
  "kernelspec": {
   "display_name": "Python 3 (ipykernel)",
   "language": "python",
   "name": "python3"
  },
  "language_info": {
   "codemirror_mode": {
    "name": "ipython",
    "version": 3
   },
   "file_extension": ".py",
   "mimetype": "text/x-python",
   "name": "python",
   "nbconvert_exporter": "python",
   "pygments_lexer": "ipython3",
   "version": "3.12.4"
  }
 },
 "nbformat": 4,
 "nbformat_minor": 5
}
