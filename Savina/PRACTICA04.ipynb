{
 "cells": [
  {
   "cell_type": "code",
   "execution_count": 1,
   "id": "7bbf3332-b4bc-496d-a34a-01ab707c81f9",
   "metadata": {},
   "outputs": [
    {
     "name": "stdout",
     "output_type": "stream",
     "text": [
      "0\n",
      "2\n",
      "4\n",
      "6\n",
      "8\n",
      "10\n"
     ]
    }
   ],
   "source": [
    "\n",
    "    "
   ]
  },
  {
   "cell_type": "code",
   "execution_count": 15,
   "id": "ea8bd996-e6f3-4bea-9db1-5cad669a7f3d",
   "metadata": {},
   "outputs": [
    {
     "name": "stdout",
     "output_type": "stream",
     "text": [
      "0\n",
      "2\n",
      "4\n",
      "6\n",
      "8\n",
      "10\n"
     ]
    }
   ],
   "source": [
    "for num in range (0 , 11, 2):\n",
    "    print (num)"
   ]
  },
  {
   "cell_type": "code",
   "execution_count": 5,
   "id": "56c946e5-c54f-4f96-8a14-3eabf05a0ca7",
   "metadata": {},
   "outputs": [
    {
     "name": "stdin",
     "output_type": "stream",
     "text": [
      "De cuantos elementos crearemos la lista  de nombres :  3\n",
      "Ingresar nombre de la posicion 0 :  Juancito\n",
      "Ingresar nombre de la posicion 1 :  Luisito\n",
      "Ingresar nombre de la posicion 2 :  Marianita\n"
     ]
    },
    {
     "name": "stdout",
     "output_type": "stream",
     "text": [
      "\n",
      " la lista completa de Nombres es : \n",
      " ['Juancito', 'Luisito', 'Marianita']\n"
     ]
    }
   ],
   "source": [
    "nombres =[]\n",
    "def ingreso(ele):\n",
    "    for i in range (0,ele):\n",
    "        m = input(\"Ingresar nombre de la posicion {0} : \".format(i))\n",
    "        nombres.append (m)\n",
    "        \n",
    "l =int (input(\"De cuantos elementos crearemos la lista  de nombres : \"))\n",
    "ingreso(l)\n",
    "print(\"\\n la lista completa de Nombres es : \\n\",nombres)\n"
   ]
  },
  {
   "cell_type": "code",
   "execution_count": 8,
   "id": "502a2bfd-4fa5-4bc5-9fb6-af4b97c48a5a",
   "metadata": {},
   "outputs": [
    {
     "name": "stdout",
     "output_type": "stream",
     "text": [
      "No se encontro el numero 9\n"
     ]
    }
   ],
   "source": [
    "lista = [2, 4, 5, 7, 8, 19, 3, 4,]\n",
    "for i,m in enumerate (lista) :\n",
    "    if m==9:\n",
    "        break\n",
    "else:\n",
    "    i = -1\n",
    "    print('No se encontro el numero 9')\n",
    "if i>=0:\n",
    "    print(i)"
   ]
  },
  {
   "cell_type": "code",
   "execution_count": 13,
   "id": "4a3a4339-4e29-477d-8956-9e3deeb54a1f",
   "metadata": {},
   "outputs": [
    {
     "name": "stdout",
     "output_type": "stream",
     "text": [
      "\n",
      "El primer Libro de Mario Vargas Llosa es:La ciudad de los perros\n",
      "\n",
      "El segundo Libro de Mario Vargas Llosa es:La casa verde\n",
      "\n",
      "El tercer Libro de Mario Vargas Llosa es:Pantaleon y  las visitadoras\n"
     ]
    }
   ],
   "source": [
    "obras_mvll=[\"La ciudad de los perros\",\"La casa verde\",\"Pantaleon y  las visitadoras\"]\n",
    "orden =[\"primer\",\"segundo\",\"tercer\"]\n",
    "for i,libro in enumerate(obras_mvll):\n",
    "    print (\"\\nEl \" + orden[i] +\" Libro de Mario Vargas Llosa es:\" + libro)\n",
    "    "
   ]
  },
  {
   "cell_type": "code",
   "execution_count": 17,
   "id": "0c0f488d-d7dc-4a4b-a9d8-49ba314a731f",
   "metadata": {},
   "outputs": [
    {
     "name": "stdout",
     "output_type": "stream",
     "text": [
      "Hola Joel.¡Por favor, ven a mi fiesta el sabado!\n",
      "Hola Nati.¡Por favor, ven a mi fiesta el sabado!\n",
      "Hola Jehu.¡Por favor, ven a mi fiesta el sabado!\n",
      "Hola Angeles.¡Por favor, ven a mi fiesta el sabado!\n",
      "Hola Maryori.¡Por favor, ven a mi fiesta el sabado!\n",
      "Hola Lucila.¡Por favor, ven a mi fiesta el sabado!\n",
      "Hola Mirella.¡Por favor, ven a mi fiesta el sabado!\n",
      "Hola Cesar.¡Por favor, ven a mi fiesta el sabado!\n"
     ]
    }
   ],
   "source": [
    "for f in [\"Joel\" , \"Nati\", \"Jehu\",\"Angeles\", \"Maryori\", \"Lucila\" , \"Mirella\",\"Cesar\"]:\n",
    "    invitation =\"Hola \" + f + \".¡Por favor, ven a mi fiesta el sabado!\"\n",
    "    print (invitation)"
   ]
  },
  {
   "cell_type": "code",
   "execution_count": 18,
   "id": "9394c116-fb1d-4ca3-be17-80cf1b3cfc90",
   "metadata": {},
   "outputs": [
    {
     "name": "stdout",
     "output_type": "stream",
     "text": [
      "10\n",
      "5.5\n",
      "2\n",
      "10\n",
      "55\n",
      "0\n"
     ]
    }
   ],
   "source": [
    "def mysum(xs):\n",
    "    \"\"\"Suma todos los numeros de la lista xs,y devuelve el total.\"\"\"\n",
    "    running_total = 0\n",
    "    for x in xs:\n",
    "        running_total = running_total + x\n",
    "    return running_total\n",
    "print (mysum([1, 2, 3, 4]))\n",
    "print (mysum([1.25, 2.5, 1.75]))\n",
    "print (mysum([1, -2, 3]))\n",
    "print (mysum([1, 2, 3, 4,]))\n",
    "print(mysum(range(11)))\n",
    "print (mysum([]))\n"
   ]
  },
  {
   "cell_type": "code",
   "execution_count": 19,
   "id": "b664bf74-ac5f-4489-bdb7-edf52d092dd3",
   "metadata": {},
   "outputs": [
    {
     "data": {
      "text/plain": [
       "10"
      ]
     },
     "execution_count": 19,
     "metadata": {},
     "output_type": "execute_result"
    }
   ],
   "source": [
    "m=[1, 2, 3, 4]\n",
    "sum(m)\n"
   ]
  },
  {
   "cell_type": "code",
   "execution_count": null,
   "id": "dcacfbc2-3cd4-4553-9299-1031bdf98377",
   "metadata": {},
   "outputs": [],
   "source": []
  }
 ],
 "metadata": {
  "kernelspec": {
   "display_name": "Python 3 (ipykernel)",
   "language": "python",
   "name": "python3"
  },
  "language_info": {
   "codemirror_mode": {
    "name": "ipython",
    "version": 3
   },
   "file_extension": ".py",
   "mimetype": "text/x-python",
   "name": "python",
   "nbconvert_exporter": "python",
   "pygments_lexer": "ipython3",
   "version": "3.12.7"
  }
 },
 "nbformat": 4,
 "nbformat_minor": 5
}
