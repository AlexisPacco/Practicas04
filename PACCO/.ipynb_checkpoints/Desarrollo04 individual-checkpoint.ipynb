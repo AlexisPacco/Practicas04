{
 "cells": [
  {
   "cell_type": "code",
   "execution_count": 1,
   "id": "515cf0cf-3a9a-412d-a05b-53f30ff51798",
   "metadata": {},
   "outputs": [
    {
     "ename": "SyntaxError",
     "evalue": "invalid syntax (152449335.py, line 2)",
     "output_type": "error",
     "traceback": [
      "\u001b[0;36m  Cell \u001b[0;32mIn[1], line 2\u001b[0;36m\u001b[0m\n\u001b[0;31m    for <var> in <iterable>:\u001b[0m\n\u001b[0m        ^\u001b[0m\n\u001b[0;31mSyntaxError\u001b[0m\u001b[0;31m:\u001b[0m invalid syntax\n"
     ]
    }
   ],
   "source": [
    "# Estructura Iterativa - Bucle \"for\"\n",
    "for <var> in <iterable>:\n",
    "    <codigo>\n",
    "    <codigo>\n",
    "    ....................."
   ]
  },
  {
   "cell_type": "code",
   "execution_count": 2,
   "id": "3dd0c280-1bd4-477f-ac98-ec116d48fa32",
   "metadata": {},
   "outputs": [
    {
     "name": "stdout",
     "output_type": "stream",
     "text": [
      "6\n",
      "23\n",
      "89\n",
      "120\n"
     ]
    }
   ],
   "source": [
    "# 'for' iterando una lista\n",
    "num = [6, 23, 89, 120]\n",
    "for n in num:\n",
    "    print(n)\n"
   ]
  },
  {
   "cell_type": "code",
   "execution_count": 3,
   "id": "82ff1ffb-31da-4743-ac1b-43b0f870b0cc",
   "metadata": {},
   "outputs": [
    {
     "name": "stdout",
     "output_type": "stream",
     "text": [
      "M\n",
      "a\n",
      "x\n",
      "i\n",
      "m\n",
      "i\n",
      "l\n",
      "i\n",
      "a\n",
      "n\n",
      "o\n"
     ]
    }
   ],
   "source": [
    "# 'for' iterando un string\n",
    "nom = \"Maximiliano\"\n",
    "for letra in nom:\n",
    "    print(letra)\n"
   ]
  },
  {
   "cell_type": "code",
   "execution_count": 5,
   "id": "169c175b-01cf-4df4-9442-f1756175cd65",
   "metadata": {},
   "outputs": [
    {
     "name": "stdout",
     "output_type": "stream",
     "text": [
      "Hola Milita, la longitud de tu nombre es de: 6 caracteres. \n",
      "Hola Luisito, la longitud de tu nombre es de: 7 caracteres. \n",
      "Hola Pablito, la longitud de tu nombre es de: 7 caracteres. \n",
      "Hola Alexandito, la longitud de tu nombre es de: 10 caracteres. \n"
     ]
    }
   ],
   "source": [
    "# 'for' hallando la longitud de los elementos de una lista\n",
    "for nombre in ['Milita', 'Luisito', 'Pablito', 'Alexandito']:\n",
    "    print('Hola {0}, la longitud de tu nombre es de: {1} caracteres. '.format(nombre,len(nombre)))\n"
   ]
  },
  {
   "cell_type": "code",
   "execution_count": 6,
   "id": "b13d0649-b96a-4dec-9814-1815f0d6423f",
   "metadata": {},
   "outputs": [
    {
     "name": "stdout",
     "output_type": "stream",
     "text": [
      "['amarillo', 'rojo', 'verde', 'purpura', 'negro']\n"
     ]
    }
   ],
   "source": [
    "# lista de colores\n",
    "colo = [\"amarillo\", \"rojo\", \"verde\", \"azul\", \"purpura\", \"blanco\", \"negro\", \"limon\"]\n",
    "# nueva lista\n",
    "color_con_r = []\n",
    "\n",
    "for n in colo:\n",
    "    if 'r' in n:\n",
    "        color_con_r.append(n)\n",
    "\n",
    "print(color_con_r)\n"
   ]
  },
  {
   "cell_type": "code",
   "execution_count": 7,
   "id": "a4bcb6bb-7811-4682-a212-e14f1cb2dca4",
   "metadata": {},
   "outputs": [
    {
     "name": "stdout",
     "output_type": "stream",
     "text": [
      "0\n",
      "1\n",
      "2\n",
      "3\n",
      "4\n",
      "5\n",
      "6\n",
      "7\n",
      "8\n",
      "9\n",
      "10\n",
      "11\n"
     ]
    }
   ],
   "source": [
    "# Funcion range()\n",
    "\n",
    "# 'for' utilizando la funcion 'range' con 1 parametro\n",
    "for i in range(12):\n",
    "    print(i)\n"
   ]
  },
  {
   "cell_type": "code",
   "execution_count": 8,
   "id": "355143c4-c1e5-4f78-88b8-896b72bc2fab",
   "metadata": {},
   "outputs": [
    {
     "name": "stdout",
     "output_type": "stream",
     "text": [
      "1 2 3 4 5 6 7 8 9 10 "
     ]
    }
   ],
   "source": [
    "# Podemos usar un argumento\n",
    "# añadir el parametro end=\"\" para que por defecto no genere una nueva linea\n",
    "\n",
    "for i in range(10):\n",
    "    print(i + 1, \"\", end=\"\")\n"
   ]
  },
  {
   "cell_type": "code",
   "execution_count": 9,
   "id": "3b72feb9-eacc-4008-8be3-0945f1c8235e",
   "metadata": {},
   "outputs": [
    {
     "name": "stdout",
     "output_type": "stream",
     "text": [
      "1 2 3 4 5 6 7 8 9 10 "
     ]
    }
   ],
   "source": [
    "# Podemos usar dos valores para definir el inicio y el final\n",
    "\n",
    "for i in range(1, 11):\n",
    "    print(i, \"\", end=\"\")\n"
   ]
  },
  {
   "cell_type": "code",
   "execution_count": 11,
   "id": "a32b63bb-6dd1-4e81-8d13-7c129cc362db",
   "metadata": {},
   "outputs": [
    {
     "name": "stdout",
     "output_type": "stream",
     "text": [
      "2 4 6 8 10 "
     ]
    }
   ],
   "source": [
    "# Podemos usar 3 para definir un inicio, un final y una longitud de paso(en este caso 2)\n",
    "\n",
    "for i in range(2, 12, 2):\n",
    "    print(i, \"\", end=\"\")\n"
   ]
  },
  {
   "cell_type": "code",
   "execution_count": 12,
   "id": "09126531-e140-4937-9160-810776147974",
   "metadata": {},
   "outputs": [
    {
     "name": "stdout",
     "output_type": "stream",
     "text": [
      "20 18 16 14 12 10 8 6 4 2 "
     ]
    }
   ],
   "source": [
    "# inicio=20, un final=0 y una longitud de paso -2\n",
    "for i in range(20, 0, -2):\n",
    "    print(i, \"\", end=\"\")"
   ]
  },
  {
   "cell_type": "code",
   "execution_count": 13,
   "id": "b263884a-ff5e-4ad1-8508-623b09b8abc4",
   "metadata": {},
   "outputs": [
    {
     "name": "stdout",
     "output_type": "stream",
     "text": [
      "40 35 30 25 20 15 10 5 0 "
     ]
    }
   ],
   "source": [
    "# inicio=40, un final=-5 y una longitud de paso -5\n",
    "for i in range(40, -5, -5):\n",
    "    print(i, \"\",end=\"\")"
   ]
  },
  {
   "cell_type": "code",
   "execution_count": 16,
   "id": "ca43a986-43a3-465e-9aff-26ff8b5e1a58",
   "metadata": {},
   "outputs": [],
   "source": [
    "# inicio=50, un final=-1 y una longitud de paso 5\n",
    "for i in range(50,-1,5):\n",
    "    print(i, \"\", end=\"\")\n"
   ]
  },
  {
   "cell_type": "code",
   "execution_count": 18,
   "id": "1257d9f4-27bd-4ccd-9160-9b9a7baf671e",
   "metadata": {},
   "outputs": [
    {
     "name": "stdout",
     "output_type": "stream",
     "text": [
      "5\n"
     ]
    }
   ],
   "source": [
    "# Modificando la  iteracion del bucle for: break y contuniue\n",
    "\n",
    "#lista de numero\n",
    "lista = [2, 4, 5, 7, 8, 9, 3, 4]\n",
    "\n",
    "# utilizaremos un contador iniciamos en 0 o en -1??\n",
    "cont = -1\n",
    "\n",
    "for m in lista:\n",
    "    cont = cont + 1\n",
    "    if m == 9:\n",
    "        break\n",
    "\n",
    "print(cont)\n"
   ]
  },
  {
   "cell_type": "code",
   "execution_count": 23,
   "id": "48be2d62-b5c5-40b8-aeb2-1d962376d2d2",
   "metadata": {},
   "outputs": [
    {
     "name": "stdout",
     "output_type": "stream",
     "text": [
      "2\n"
     ]
    }
   ],
   "source": [
    "contador = 1\n",
    "# contador = contador + 1\n",
    "contador /= 5                # Hay abreviaturas similares para -=, *=, /=, //= y %=:\n",
    "c=1\n",
    "c+=1\n",
    "print(c)\n"
   ]
  },
  {
   "cell_type": "code",
   "execution_count": 24,
   "id": "ee80498f-7d95-4fc9-8abe-ec1aa1bdeaae",
   "metadata": {},
   "outputs": [
    {
     "name": "stdout",
     "output_type": "stream",
     "text": [
      "No se encontro el numero 9\n"
     ]
    }
   ],
   "source": [
    "# lista de numeros sin el numero '9'\n",
    "lista = [2, 4, 5, 7, 8, 19, 3, 4]\n",
    "\n",
    "# utilizamos un contador reducido\n",
    "cont = -1\n",
    "\n",
    "for m in lista:\n",
    "    cont += 1\n",
    "    if m == 9:\n",
    "        break\n",
    "else:\n",
    "## Usamos 'for' conjuntamente con 'else'\n",
    "    cont = -1\n",
    "    print(\"No se encontro el numero 9\")\n",
    "\n",
    "if cont >= 0:\n",
    "    print(cont)\n",
    "\n",
    "\n",
    "## Usamos 'for' conjuntamente con 'else'\n"
   ]
  },
  {
   "cell_type": "code",
   "execution_count": 25,
   "id": "c5f96046-a285-4ba3-9db5-71de2ea069d6",
   "metadata": {},
   "outputs": [
    {
     "name": "stdout",
     "output_type": "stream",
     "text": [
      "12\n",
      "14\n",
      "108\n",
      "90\n",
      "200\n"
     ]
    }
   ],
   "source": [
    "## Hacer un programa de una lista de numeros imprima solo numeros pares:\n",
    "\n",
    "# lista de numeros\n",
    "num = [12, 14, 15, 27, 108, 90, 33, 49, 200]\n",
    "\n",
    "for p in num:\n",
    "    if p % 2 != 0:\n",
    "        continue\n",
    "    print(p)\n"
   ]
  },
  {
   "cell_type": "code",
   "execution_count": null,
   "id": "268c2659-ca21-40f6-bea7-47ff1ba506cc",
   "metadata": {},
   "outputs": [],
   "source": []
  }
 ],
 "metadata": {
  "kernelspec": {
   "display_name": "Python 3 (ipykernel)",
   "language": "python",
   "name": "python3"
  },
  "language_info": {
   "codemirror_mode": {
    "name": "ipython",
    "version": 3
   },
   "file_extension": ".py",
   "mimetype": "text/x-python",
   "name": "python",
   "nbconvert_exporter": "python",
   "pygments_lexer": "ipython3",
   "version": "3.12.4"
  }
 },
 "nbformat": 4,
 "nbformat_minor": 5
}
